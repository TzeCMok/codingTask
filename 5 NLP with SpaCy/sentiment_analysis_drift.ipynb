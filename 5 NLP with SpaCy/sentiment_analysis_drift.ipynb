{
 "cells": [
  {
   "cell_type": "code",
   "execution_count": 1,
   "id": "d1c59254-257b-4806-beb8-721216933f64",
   "metadata": {},
   "outputs": [],
   "source": [
    "import spacy \n",
    "import pandas as pd\n",
    "import matplotlib.pyplot as plt\n",
    "import seaborn as sns\n",
    "from spacytextblob.spacytextblob import SpacyTextBlob"
   ]
  },
  {
   "cell_type": "code",
   "execution_count": 2,
   "id": "7b4b8f5f-718c-4a03-8e72-3a2371645c2e",
   "metadata": {},
   "outputs": [],
   "source": [
    "# Function to perform setiment analysis by using TextBlob\n",
    "def analyze_sentiment(text):\n",
    "    polarity = nlp(text)._.blob.polarity  # Sentiment score between -1 and 1\n",
    "\n",
    "# Text required to be slight stronger tendency to classify as positve or negative\n",
    "    if polarity > 0.2:\n",
    "        return \"Positive\"\n",
    "    elif polarity < -0.2:\n",
    "        return \"Negative\"\n",
    "    else:\n",
    "        return \"Neutral\"\n",
    "        \n",
    "# Function to presprocessing text\n",
    "def preprocess_text(text):\n",
    "    doc = nlp(text.lower().strip().strip('\"'))  # Convert to lowercase and remove whitespace\n",
    "    tokens = [token.text for token in doc if not token.is_stop and token.is_alpha]  # Remove stopwords & non-alphabetic words\n",
    "    return \" \".join(tokens)"
   ]
  },
  {
   "cell_type": "code",
   "execution_count": 3,
   "id": "b682fdd2-2cb5-432b-9dd1-6dafb86d4b50",
   "metadata": {},
   "outputs": [
    {
     "name": "stdout",
     "output_type": "stream",
     "text": [
      "id                         0\n",
      "dateAdded                  0\n",
      "dateUpdated                0\n",
      "name                       0\n",
      "asins                      0\n",
      "brand                      0\n",
      "categories                 0\n",
      "primaryCategories          0\n",
      "imageURLs                  0\n",
      "keys                       0\n",
      "manufacturer               0\n",
      "manufacturerNumber         0\n",
      "reviews.date               0\n",
      "reviews.dateSeen           0\n",
      "reviews.didPurchase    28323\n",
      "reviews.doRecommend    12246\n",
      "reviews.id             28291\n",
      "reviews.numHelpful     12217\n",
      "reviews.rating             0\n",
      "reviews.sourceURLs         0\n",
      "reviews.text               0\n",
      "reviews.title              0\n",
      "reviews.username           5\n",
      "sourceURLs                 0\n",
      "dtype: int64\n"
     ]
    }
   ],
   "source": [
    "# Setting up spaCy with textblob library\n",
    "nlp = spacy.load('en_core_web_sm')\n",
    "nlp.add_pipe(\"spacytextblob\")\n",
    "df = pd.read_csv('amazon_product_reviews.csv')\n",
    "\n",
    "print(df.isnull().sum())"
   ]
  },
  {
   "cell_type": "code",
   "execution_count": 4,
   "id": "56ddaf9a-0674-425b-8ad4-114ccfded864",
   "metadata": {},
   "outputs": [],
   "source": [
    "# Removing unused column\n",
    "df.drop(['dateAdded',\n",
    "         'dateUpdated',\n",
    "         'asins',\n",
    "         'categories',\n",
    "         'imageURLs',\n",
    "         'keys',\n",
    "         'reviews.didPurchase',\n",
    "         'reviews.dateSeen',\n",
    "         'reviews.id',\n",
    "         'reviews.sourceURLs',\n",
    "         'reviews.username',\n",
    "         'reviews.doRecommend',\n",
    "         'reviews.numHelpful',\n",
    "         'sourceURLs'\n",
    "        ],axis=1, inplace=True)\n"
   ]
  },
  {
   "cell_type": "code",
   "execution_count": 5,
   "id": "6811467a-67b9-41e0-b1d8-1ece2bf867df",
   "metadata": {},
   "outputs": [
    {
     "data": {
      "text/html": [
       "<div>\n",
       "<style scoped>\n",
       "    .dataframe tbody tr th:only-of-type {\n",
       "        vertical-align: middle;\n",
       "    }\n",
       "\n",
       "    .dataframe tbody tr th {\n",
       "        vertical-align: top;\n",
       "    }\n",
       "\n",
       "    .dataframe thead th {\n",
       "        text-align: right;\n",
       "    }\n",
       "</style>\n",
       "<table border=\"1\" class=\"dataframe\">\n",
       "  <thead>\n",
       "    <tr style=\"text-align: right;\">\n",
       "      <th></th>\n",
       "      <th>id</th>\n",
       "      <th>name</th>\n",
       "      <th>brand</th>\n",
       "      <th>primaryCategories</th>\n",
       "      <th>manufacturer</th>\n",
       "      <th>manufacturerNumber</th>\n",
       "      <th>reviews.date</th>\n",
       "      <th>reviews.rating</th>\n",
       "      <th>reviews.text</th>\n",
       "      <th>reviews.title</th>\n",
       "    </tr>\n",
       "  </thead>\n",
       "  <tbody>\n",
       "    <tr>\n",
       "      <th>0</th>\n",
       "      <td>AVpgNzjwLJeJML43Kpxn</td>\n",
       "      <td>AmazonBasics AAA Performance Alkaline Batterie...</td>\n",
       "      <td>Amazonbasics</td>\n",
       "      <td>Health &amp; Beauty</td>\n",
       "      <td>AmazonBasics</td>\n",
       "      <td>HL-002619</td>\n",
       "      <td>2017-03-02T00:00:00.000Z</td>\n",
       "      <td>3</td>\n",
       "      <td>I order 3 of them and one of the item is bad q...</td>\n",
       "      <td>... 3 of them and one of the item is bad quali...</td>\n",
       "    </tr>\n",
       "    <tr>\n",
       "      <th>1</th>\n",
       "      <td>AVpgNzjwLJeJML43Kpxn</td>\n",
       "      <td>AmazonBasics AAA Performance Alkaline Batterie...</td>\n",
       "      <td>Amazonbasics</td>\n",
       "      <td>Health &amp; Beauty</td>\n",
       "      <td>AmazonBasics</td>\n",
       "      <td>HL-002619</td>\n",
       "      <td>2016-08-31T00:00:00.000Z</td>\n",
       "      <td>4</td>\n",
       "      <td>Bulk is always the less expensive way to go fo...</td>\n",
       "      <td>... always the less expensive way to go for pr...</td>\n",
       "    </tr>\n",
       "    <tr>\n",
       "      <th>2</th>\n",
       "      <td>AVpgNzjwLJeJML43Kpxn</td>\n",
       "      <td>AmazonBasics AAA Performance Alkaline Batterie...</td>\n",
       "      <td>Amazonbasics</td>\n",
       "      <td>Health &amp; Beauty</td>\n",
       "      <td>AmazonBasics</td>\n",
       "      <td>HL-002619</td>\n",
       "      <td>2016-12-06T00:00:00.000Z</td>\n",
       "      <td>5</td>\n",
       "      <td>Well they are not Duracell but for the price i...</td>\n",
       "      <td>... are not Duracell but for the price i am ha...</td>\n",
       "    </tr>\n",
       "    <tr>\n",
       "      <th>3</th>\n",
       "      <td>AVpgNzjwLJeJML43Kpxn</td>\n",
       "      <td>AmazonBasics AAA Performance Alkaline Batterie...</td>\n",
       "      <td>Amazonbasics</td>\n",
       "      <td>Health &amp; Beauty</td>\n",
       "      <td>AmazonBasics</td>\n",
       "      <td>HL-002619</td>\n",
       "      <td>2016-03-28T00:00:00.000Z</td>\n",
       "      <td>5</td>\n",
       "      <td>Seem to work as well as name brand batteries a...</td>\n",
       "      <td>... as well as name brand batteries at a much ...</td>\n",
       "    </tr>\n",
       "    <tr>\n",
       "      <th>4</th>\n",
       "      <td>AVpgNzjwLJeJML43Kpxn</td>\n",
       "      <td>AmazonBasics AAA Performance Alkaline Batterie...</td>\n",
       "      <td>Amazonbasics</td>\n",
       "      <td>Health &amp; Beauty</td>\n",
       "      <td>AmazonBasics</td>\n",
       "      <td>HL-002619</td>\n",
       "      <td>2017-04-22T00:00:00.000Z</td>\n",
       "      <td>5</td>\n",
       "      <td>These batteries are very long lasting the pric...</td>\n",
       "      <td>... batteries are very long lasting the price ...</td>\n",
       "    </tr>\n",
       "  </tbody>\n",
       "</table>\n",
       "</div>"
      ],
      "text/plain": [
       "                     id                                               name  \\\n",
       "0  AVpgNzjwLJeJML43Kpxn  AmazonBasics AAA Performance Alkaline Batterie...   \n",
       "1  AVpgNzjwLJeJML43Kpxn  AmazonBasics AAA Performance Alkaline Batterie...   \n",
       "2  AVpgNzjwLJeJML43Kpxn  AmazonBasics AAA Performance Alkaline Batterie...   \n",
       "3  AVpgNzjwLJeJML43Kpxn  AmazonBasics AAA Performance Alkaline Batterie...   \n",
       "4  AVpgNzjwLJeJML43Kpxn  AmazonBasics AAA Performance Alkaline Batterie...   \n",
       "\n",
       "          brand primaryCategories  manufacturer manufacturerNumber  \\\n",
       "0  Amazonbasics   Health & Beauty  AmazonBasics          HL-002619   \n",
       "1  Amazonbasics   Health & Beauty  AmazonBasics          HL-002619   \n",
       "2  Amazonbasics   Health & Beauty  AmazonBasics          HL-002619   \n",
       "3  Amazonbasics   Health & Beauty  AmazonBasics          HL-002619   \n",
       "4  Amazonbasics   Health & Beauty  AmazonBasics          HL-002619   \n",
       "\n",
       "               reviews.date  reviews.rating  \\\n",
       "0  2017-03-02T00:00:00.000Z               3   \n",
       "1  2016-08-31T00:00:00.000Z               4   \n",
       "2  2016-12-06T00:00:00.000Z               5   \n",
       "3  2016-03-28T00:00:00.000Z               5   \n",
       "4  2017-04-22T00:00:00.000Z               5   \n",
       "\n",
       "                                        reviews.text  \\\n",
       "0  I order 3 of them and one of the item is bad q...   \n",
       "1  Bulk is always the less expensive way to go fo...   \n",
       "2  Well they are not Duracell but for the price i...   \n",
       "3  Seem to work as well as name brand batteries a...   \n",
       "4  These batteries are very long lasting the pric...   \n",
       "\n",
       "                                       reviews.title  \n",
       "0  ... 3 of them and one of the item is bad quali...  \n",
       "1  ... always the less expensive way to go for pr...  \n",
       "2  ... are not Duracell but for the price i am ha...  \n",
       "3  ... as well as name brand batteries at a much ...  \n",
       "4  ... batteries are very long lasting the price ...  "
      ]
     },
     "execution_count": 5,
     "metadata": {},
     "output_type": "execute_result"
    }
   ],
   "source": [
    "df.head()"
   ]
  },
  {
   "cell_type": "code",
   "execution_count": 6,
   "id": "f4d75015-2bd1-44a8-a06d-00d142d0871c",
   "metadata": {},
   "outputs": [
    {
     "name": "stdout",
     "output_type": "stream",
     "text": [
      "Distribution of reviews rating\n",
      "                   id\n",
      "reviews.rating       \n",
      "1                 965\n",
      "2                 616\n",
      "3                1206\n",
      "4                5648\n",
      "5               19897\n"
     ]
    }
   ],
   "source": [
    "print(\"Distribution of reviews rating\")\n",
    "print(df.loc[:,['id','reviews.rating']].groupby('reviews.rating').count())"
   ]
  },
  {
   "cell_type": "code",
   "execution_count": 7,
   "id": "3528cb5e-b960-4bd0-8677-eeae6dc80b96",
   "metadata": {},
   "outputs": [],
   "source": [
    "# Removing any data with empty \"reviews\" and extrating review data\n",
    "df.dropna(subset=['reviews.text'])\n",
    "\n",
    "# Cleansing reviews.text column\n",
    "df['reviews.text.cleaned'] = df[\"reviews.text\"].apply(preprocess_text)\n",
    "\n",
    "# Applying sentiment analysis and stored in sentiment column\n",
    "df['sentiment'] = df['reviews.text.cleaned'].apply(analyze_sentiment)"
   ]
  },
  {
   "cell_type": "code",
   "execution_count": 8,
   "id": "404bc4f1-9cd8-4376-bf2d-48612aeee338",
   "metadata": {},
   "outputs": [
    {
     "name": "stdout",
     "output_type": "stream",
     "text": [
      "Review text:  I order 3 of them and one of the item is bad quality. Is missing backup spring so I have to put a pcs of aluminum to make the battery work.\n",
      "Review Score:  3\n",
      "Sentiment Score:  Negative\n",
      "Review text:  Bulk is always the less expensive way to go for products like these\n",
      "Review Score:  4\n",
      "Sentiment Score:  Negative\n",
      "Review text:  Well they are not Duracell but for the price i am happy.\n",
      "Review Score:  5\n",
      "Sentiment Score:  Positive\n",
      "Review text:  Seem to work as well as name brand batteries at a much better price\n",
      "Review Score:  5\n",
      "Sentiment Score:  Positive\n",
      "Review text:  These batteries are very long lasting the price is great.\n",
      "Review Score:  5\n",
      "Sentiment Score:  Positive\n"
     ]
    }
   ],
   "source": [
    "# Printing first 5 comment text, review score and sentiment score to verify the model\n",
    "for i in range(0,5):\n",
    "    print('Review text: ', df[\"reviews.text\"][i])\n",
    "    print('Review Score: ', df['reviews.rating'][i])\n",
    "    print('Sentiment Score: ', df['sentiment'][i])"
   ]
  },
  {
   "cell_type": "code",
   "execution_count": 9,
   "id": "625e4a9b-4776-4d0a-915a-22bba5d5026e",
   "metadata": {},
   "outputs": [
    {
     "data": {
      "image/png": "[encoded data removed]",
      "text/plain": [
       "<Figure size 640x480 with 1 Axes>"
      ]
     },
     "metadata": {},
     "output_type": "display_data"
    }
   ],
   "source": [
    "# Showing relation between reviews and sentiment. Saving plot into files\n",
    "custom_palette = {\n",
    "    'Negative': 'grey',\n",
    "    'Neutral': 'orange',\n",
    "    'Positive': 'green'\n",
    "}\n",
    "hue_order = ['Negative', 'Neutral', 'Positive']\n",
    "sns.countplot(df[df['reviews.rating'] < 4], x='reviews.rating', hue='sentiment', palette=custom_palette)\n",
    "plt.xlabel(\"Reviews rating\")\n",
    "plt.ylabel(\"Number of review\")\n",
    "plt.title('Reviwes rating 1 to 3')\n",
    "plt.savefig('rating_plot_1to3.png')\n",
    "plt.show()"
   ]
  },
  {
   "cell_type": "code",
   "execution_count": 10,
   "id": "86705582-785b-4f79-86e4-0818a6dd4b37",
   "metadata": {},
   "outputs": [
    {
     "data": {
      "image/png": "[encoded data removed]",
      "text/plain": [
       "<Figure size 640x480 with 1 Axes>"
      ]
     },
     "metadata": {},
     "output_type": "display_data"
    }
   ],
   "source": [
    "# Showing relation between reviews and sentiment. Saving plot into files\n",
    "plt.title('Reviwes rating 4 to 5')\n",
    "sns.countplot(df[df['reviews.rating'] >= 4], x='reviews.rating', hue='sentiment', palette=custom_palette)\n",
    "plt.xlabel(\"Reviews rating\")\n",
    "plt.ylabel(\"Number of review\")\n",
    "plt.savefig('rating_plot_4to5.png')\n",
    "plt.show()"
   ]
  },
  {
   "cell_type": "code",
   "execution_count": 11,
   "id": "1137df79-e05c-44fb-b2f2-9e28a0e3f323",
   "metadata": {},
   "outputs": [
    {
     "name": "stdout",
     "output_type": "stream",
     "text": [
      "Printing unexpected review (rated 5 but sentiment is Negative):\n",
      "Batteries were inexpensive, work well in multiple devices.I hate running out of triple A batteries!\n",
      "They are batteries... They do last a while though in the R/C toys we got for x-mas. I would buy these again over more expensive name brands.\n",
      "They're batteries. They make small devices work. What more is there to say\n",
      "You know, I really like the Amazon line of batteries. At first I has hesitant on using anything other than Duracell, I tried these and especially for the price you simply cannot go wrong....\n",
      "I have purchased Amazon batteries before and they last as long as the leading brands like Energizer or Duracell's for 3x less the cost. Most people nowadays are using rechargeable but there are a few things that still require Alkaline such as my temp signal transmitter for my digital clocks and a pair of these lasted about 9 months out in weather. Other brands died within a few months. You will not be disappointed.\n"
     ]
    }
   ],
   "source": [
    "# Getting result for some outlier\n",
    "outlier = df.loc[(df['reviews.rating'] == 5) & (df['sentiment'] == 'Negative')]\n",
    "outlier_text= outlier['reviews.text'].values\n",
    "print('Printing unexpected review (rated 5 but sentiment is Negative):')\n",
    "for i in range(0,5):\n",
    "    print(outlier_text[i])\n",
    "\n"
   ]
  },
  {
   "cell_type": "code",
   "execution_count": 17,
   "id": "955032bb-07e0-4288-b37a-b0b2db086716",
   "metadata": {},
   "outputs": [
    {
     "name": "stdout",
     "output_type": "stream",
     "text": [
      "Buying this product never cannot go wrong\n",
      "Score :  -0.5\n"
     ]
    }
   ],
   "source": [
    "#Testing sentiment analysis score with following sentence\n",
    "print('Buying this product never cannot go wrong')\n",
    "print('Sentiment Score : ',nlp(\"Buying this product never cannot go wrong\")._.blob.polarity)"
   ]
  },
  {
   "cell_type": "code",
   "execution_count": 23,
   "id": "e95dd117-aebb-4b1c-9ccb-ba3edae6299f",
   "metadata": {},
   "outputs": [
    {
     "name": "stdout",
     "output_type": "stream",
     "text": [
      "Testing for similarity\n",
      "1.0\n",
      "0.49599385261535645\n",
      "0.58771812915802\n",
      "0.6433884501457214\n",
      "0.5522983074188232\n",
      "0.49599385261535645\n",
      "1.0\n",
      "0.5177678465843201\n",
      "0.4006657004356384\n",
      "0.5421891808509827\n",
      "0.58771812915802\n",
      "0.5177678465843201\n",
      "1.0\n",
      "0.5245806574821472\n",
      "0.5761757493019104\n",
      "0.6433884501457214\n",
      "0.4006657004356384\n",
      "0.5245806574821472\n",
      "1.0\n",
      "0.450712651014328\n",
      "0.5522983074188232\n",
      "0.5421891808509827\n",
      "0.5761757493019104\n",
      "0.450712651014328\n",
      "1.0\n"
     ]
    },
    {
     "name": "stderr",
     "output_type": "stream",
     "text": [
      "C:\\Users\\tcmok\\AppData\\Local\\Temp\\ipykernel_4580\\2984330711.py:7: UserWarning: [W007] The model you're using has no word vectors loaded, so the result of the Doc.similarity method will be based on the tagger, parser and NER, which may not give useful similarity judgements. This may happen if you're using one of the small models, e.g. `en_core_web_sm`, which don't ship with word vectors and only use context-sensitive tensors. You can always add your own word vectors, or use one of the larger models instead if available.\n",
      "  sim = saved.similarity(nlp(reviews_text_cleaned[k]))\n"
     ]
    }
   ],
   "source": [
    "# Testing similarity\n",
    "reviews_text_cleaned = df['reviews.text.cleaned'].values\n",
    "print(\"Testing for similarity\")\n",
    "for i in range(0,5):\n",
    "    saved = nlp(reviews_text_cleaned[i])\n",
    "    for k in range(0,5):\n",
    "        sim = saved.similarity(nlp(reviews_text_cleaned[k]))\n",
    "        print(sim)\n"
   ]
  },
  {
   "cell_type": "code",
   "execution_count": null,
   "id": "3121f63b-3366-44f5-bd3f-cd9c22fa8406",
   "metadata": {},
   "outputs": [],
   "source": []
  }
 ],
 "metadata": {
  "kernelspec": {
   "display_name": "Python 3 (ipykernel)",
   "language": "python",
   "name": "python3"
  },
  "language_info": {
   "codemirror_mode": {
    "name": "ipython",
    "version": 3
   },
   "file_extension": ".py",
   "mimetype": "text/x-python",
   "name": "python",
   "nbconvert_exporter": "python",
   "pygments_lexer": "ipython3",
   "version": "3.12.1"
  }
 },
 "nbformat": 4,
 "nbformat_minor": 5
}
